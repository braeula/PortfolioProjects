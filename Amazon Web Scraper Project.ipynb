{
 "cells": [
  {
   "cell_type": "code",
   "execution_count": 40,
   "id": "6f56df24",
   "metadata": {},
   "outputs": [],
   "source": [
    "# import libraries\n",
    "\n",
    "from bs4 import BeautifulSoup\n",
    "import requests, time, datetime, smtplib"
   ]
  },
  {
   "cell_type": "code",
   "execution_count": 41,
   "id": "66886924",
   "metadata": {},
   "outputs": [
    {
     "name": "stdout",
     "output_type": "stream",
     "text": [
      "\n",
      "                  Seize The Data T Shirt Funny Gift for Computer Scientist Analyst Engineer Coder Geek - Unisex Tee\n",
      "                 \n"
     ]
    }
   ],
   "source": [
    "# connect to website\n",
    "\n",
    "#url='https://www.amazon.com/Funny-Data-Systems-Business-Analyst/dp/B07FNW9FGJ/ref=sr_1_3?dchild=1&keywords=data%2Banalyst%2Btshirt&qid=1626655184&sr=8-3&customId=B0752XJYNL&th=1'\n",
    "url='https://www.amazon.com/-/de/dp/B084715HDJ/ref=sr_1_2?__mk_de_DE=%C3%85M%C3%85%C5%BD%C3%95%C3%91&dib=eyJ2IjoiMSJ9.KEhZNoiS_9aZRnvUMTy2C4-GdG5UJ6nTuXaK_CDtH8mqh0lsPjCejMOkYaBX8CXzpWQa4WPISBhd--uu0G3crpXjBTMWHvo584T3wVGkwyuu-7lSi0iz0hBCcBaLCFnOy6-qQEs5mSfci3U3v3e0lfJAjsPLUKrZUCXuBuQc0Slmp6oKZDLAJODOdaCkyUZUh-FEo7vzrM1D_nMPW5SSjtPzgXsTDgmmDcYnZ6q0lN4ELfLE4kQGcZUVnAoVRuZSMm5niHe2jl0uEsGrmvAid2u_eewae9mgDORQcCVXEoA.lsI_tgC2_zDGm4yTD1-k6332V3yq-A4bSfBodlUoAGU&dib_tag=se&keywords=data%2Banalyst%2Btshirt&qid=1708788211&sr=8-2&th=1&psc=1'\n",
    "\n",
    "headers={\"User-Agent\":\"Mozilla/5.0 (Windows NT 10.0; Win64; x64; rv:122.0) Gecko/20100101 Firefox/122.0\",\"Accept-Encoding\":\"gzip, deflate\", \"Accept\":\"text/html,application/xhtml+xml,application/xml;q=0.9,*/*;q=0.8\", \"DNT\":\"1\",\"Connection\":\"close\", \"Upgrade-Insecure-Requests\":\"1\"}\n",
    "\n",
    "page = requests.get(url, headers=headers)\n",
    "\n",
    "soup1 = BeautifulSoup(page.content, \"lxml\")#\"html.parser\")\n",
    "\n",
    "soup2 = BeautifulSoup(soup1.prettify(),\"lxml\")#'html.parser')\n",
    "\n",
    "title = soup2.find(id=\"productTitle\").get_text()\n",
    "\n",
    "#price = soup2.find(id='priceblock_ourprice').get_text()\n",
    "price = soup2.find(id='corePriceDisplay_desktop_feature_div').get_text()\n",
    "\n",
    "print(title)\n",
    "#print(price)\n"
   ]
  },
  {
   "cell_type": "code",
   "execution_count": 42,
   "id": "bd61e849",
   "metadata": {},
   "outputs": [
    {
     "name": "stdout",
     "output_type": "stream",
     "text": [
      "Seize The Data T Shirt Funny Gift for Computer Scientist Analyst Engineer Coder Geek - Unisex Tee\n",
      "23,79\n"
     ]
    }
   ],
   "source": [
    "price=price.strip()[:5]\n",
    "title=title.strip()\n",
    "\n",
    "print(title)\n",
    "print(price)"
   ]
  },
  {
   "cell_type": "code",
   "execution_count": 43,
   "id": "01690d92",
   "metadata": {},
   "outputs": [],
   "source": [
    "import datetime\n",
    "\n",
    "today=datetime.date.today()\n"
   ]
  },
  {
   "cell_type": "code",
   "execution_count": 52,
   "id": "326d760a",
   "metadata": {},
   "outputs": [],
   "source": [
    "import csv\n",
    "\n",
    "header=['Title','Price','Date']\n",
    "data=[title,price,today]\n",
    "\n",
    "#with open('AmazonWebScraperDataset.csv','w',newline='',encoding='UTF8') as f:\n",
    "#    writer=csv.writer(f)\n",
    "#    writer.writerow(header)\n",
    "#    writer.writerow(data)"
   ]
  },
  {
   "cell_type": "code",
   "execution_count": null,
   "id": "c4f06eae",
   "metadata": {},
   "outputs": [],
   "source": [
    "import pandas as pd\n",
    "\n",
    "df=pd.read_csv(r'C:\\Users\\abrae\\AmazonWebScraperDataset.csv')\n",
    "\n",
    "print(df)"
   ]
  },
  {
   "cell_type": "code",
   "execution_count": 56,
   "id": "e1692653",
   "metadata": {},
   "outputs": [],
   "source": [
    "# Now we are appending data to the csv\n",
    "\n",
    "with open('AmazonWebScraperDataset.csv','a+',newline='',encoding='UTF8') as f:\n",
    "    writer=csv.writer(f)\n",
    "    writer.writerow(data)"
   ]
  },
  {
   "cell_type": "code",
   "execution_count": 58,
   "id": "150c7b63",
   "metadata": {},
   "outputs": [],
   "source": [
    "def check_price():\n",
    "    url='https://www.amazon.com/-/de/dp/B084715HDJ/ref=sr_1_2?__mk_de_DE=%C3%85M%C3%85%C5%BD%C3%95%C3%91&dib=eyJ2IjoiMSJ9.KEhZNoiS_9aZRnvUMTy2C4-GdG5UJ6nTuXaK_CDtH8mqh0lsPjCejMOkYaBX8CXzpWQa4WPISBhd--uu0G3crpXjBTMWHvo584T3wVGkwyuu-7lSi0iz0hBCcBaLCFnOy6-qQEs5mSfci3U3v3e0lfJAjsPLUKrZUCXuBuQc0Slmp6oKZDLAJODOdaCkyUZUh-FEo7vzrM1D_nMPW5SSjtPzgXsTDgmmDcYnZ6q0lN4ELfLE4kQGcZUVnAoVRuZSMm5niHe2jl0uEsGrmvAid2u_eewae9mgDORQcCVXEoA.lsI_tgC2_zDGm4yTD1-k6332V3yq-A4bSfBodlUoAGU&dib_tag=se&keywords=data%2Banalyst%2Btshirt&qid=1708788211&sr=8-2&th=1&psc=1'\n",
    "\n",
    "    headers={\"User-Agent\":\"Mozilla/5.0 (Windows NT 10.0; Win64; x64; rv:122.0) Gecko/20100101 Firefox/122.0\",\"Accept-Encoding\":\"gzip, deflate\", \"Accept\":\"text/html,application/xhtml+xml,application/xml;q=0.9,*/*;q=0.8\", \"DNT\":\"1\",\"Connection\":\"close\", \"Upgrade-Insecure-Requests\":\"1\"}\n",
    "\n",
    "    page = requests.get(url, headers=headers)\n",
    "\n",
    "    soup1 = BeautifulSoup(page.content, \"lxml\")#\"html.parser\")\n",
    "\n",
    "    soup2 = BeautifulSoup(soup1.prettify(),\"lxml\")#'html.parser')\n",
    "\n",
    "    title = soup2.find(id=\"productTitle\").get_text()\n",
    "\n",
    "    #price = soup2.find(id='priceblock_ourprice').get_text()\n",
    "    price = soup2.find(id='corePriceDisplay_desktop_feature_div').get_text()\n",
    "\n",
    "    price=price.strip()[:5]\n",
    "    title=title.strip()\n",
    "\n",
    "    import datetime\n",
    "\n",
    "    today=datetime.date.today()\n",
    "\n",
    "    import csv\n",
    "\n",
    "    header=['Title','Price','Date']\n",
    "    data=[title,price,today]\n",
    "\n",
    "    with open('AmazonWebScraperDataset.csv','a+',newline='',encoding='UTF8') as f:\n",
    "        writer=csv.writer(f)\n",
    "        writer.writerow(data)"
   ]
  },
  {
   "cell_type": "code",
   "execution_count": 59,
   "id": "26e2f152",
   "metadata": {},
   "outputs": [
    {
     "ename": "KeyboardInterrupt",
     "evalue": "",
     "output_type": "error",
     "traceback": [
      "\u001b[1;31m---------------------------------------------------------------------------\u001b[0m",
      "\u001b[1;31mKeyboardInterrupt\u001b[0m                         Traceback (most recent call last)",
      "Cell \u001b[1;32mIn[59], line 3\u001b[0m\n\u001b[0;32m      1\u001b[0m \u001b[38;5;28;01mwhile\u001b[39;00m(\u001b[38;5;28;01mTrue\u001b[39;00m):\n\u001b[0;32m      2\u001b[0m     check_price()\n\u001b[1;32m----> 3\u001b[0m     time\u001b[38;5;241m.\u001b[39msleep(\u001b[38;5;241m3\u001b[39m)\n",
      "\u001b[1;31mKeyboardInterrupt\u001b[0m: "
     ]
    }
   ],
   "source": [
    "while(True):\n",
    "    check_price()\n",
    "    time.sleep(3)"
   ]
  },
  {
   "cell_type": "code",
   "execution_count": 60,
   "id": "3d0850a5",
   "metadata": {},
   "outputs": [
    {
     "name": "stdout",
     "output_type": "stream",
     "text": [
      "                                               Title  Price        Date\n",
      "0  Seize The Data T Shirt Funny Gift for Computer...  23,79  2024-03-22\n",
      "1  Seize The Data T Shirt Funny Gift for Computer...  23,79  2024-03-22\n",
      "2  Seize The Data T Shirt Funny Gift for Computer...  23,79  2024-03-22\n",
      "3  Seize The Data T Shirt Funny Gift for Computer...  23,79  2024-03-22\n",
      "4  Seize The Data T Shirt Funny Gift for Computer...  23,79  2024-03-22\n",
      "5  Seize The Data T Shirt Funny Gift for Computer...  23,79  2024-03-22\n",
      "6  Seize The Data T Shirt Funny Gift for Computer...  23,79  2024-03-22\n",
      "7  Seize The Data T Shirt Funny Gift for Computer...  23,79  2024-03-22\n",
      "8  Seize The Data T Shirt Funny Gift for Computer...  23,79  2024-03-22\n"
     ]
    }
   ],
   "source": [
    "import pandas as pd\n",
    "\n",
    "df=pd.read_csv(r'C:\\Users\\abrae\\AmazonWebScraperDataset.csv')\n",
    "\n",
    "print(df)"
   ]
  }
 ],
 "metadata": {
  "kernelspec": {
   "display_name": "Python 3 (ipykernel)",
   "language": "python",
   "name": "python3"
  },
  "language_info": {
   "codemirror_mode": {
    "name": "ipython",
    "version": 3
   },
   "file_extension": ".py",
   "mimetype": "text/x-python",
   "name": "python",
   "nbconvert_exporter": "python",
   "pygments_lexer": "ipython3",
   "version": "3.11.5"
  }
 },
 "nbformat": 4,
 "nbformat_minor": 5
}
